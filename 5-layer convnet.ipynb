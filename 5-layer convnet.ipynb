{
 "cells": [
  {
   "cell_type": "markdown",
   "metadata": {
    "deletable": true,
    "editable": true
   },
   "source": [
    "# 5 Layer Convnet for Classifying 5  Types of Flowers"
   ]
  },
  {
   "cell_type": "code",
   "execution_count": 1,
   "metadata": {
    "collapsed": true,
    "deletable": true,
    "editable": true
   },
   "outputs": [],
   "source": [
    "# import necessary dependencies and files\n",
    "import tensorflow as tf\n",
    "import numpy as np\n",
    "import matplotlib.pyplot as plt\n",
    "from features import Features\n",
    "from tqdm import tqdm\n",
    "import os, sys\n",
    "%matplotlib inline"
   ]
  },
  {
   "cell_type": "markdown",
   "metadata": {
    "deletable": true,
    "editable": true
   },
   "source": [
    "### Load in the datasets"
   ]
  },
  {
   "cell_type": "code",
   "execution_count": 2,
   "metadata": {
    "collapsed": false,
    "deletable": true,
    "editable": true
   },
   "outputs": [
    {
     "name": "stdout",
     "output_type": "stream",
     "text": [
      "(50, 50, 3)\n"
     ]
    }
   ],
   "source": [
    "features = Features()\n",
    "if not os.path.isfile('datasets.npy'):\n",
    "    datasets = features.create(flatten=False)\n",
    "else:\n",
    "    datasets = np.load('datasets.npy')\n",
    "X_train, y_train, X_test, y_test = features.train_test_split(datasets)"
   ]
  },
  {
   "cell_type": "code",
   "execution_count": 3,
   "metadata": {
    "collapsed": false
   },
   "outputs": [
    {
     "data": {
      "text/plain": [
       "(50, 50, 3)"
      ]
     },
     "execution_count": 3,
     "metadata": {},
     "output_type": "execute_result"
    }
   ],
   "source": [
    "datasets[0][0].shape"
   ]
  },
  {
   "cell_type": "code",
   "execution_count": 4,
   "metadata": {
    "collapsed": false,
    "deletable": true,
    "editable": true
   },
   "outputs": [
    {
     "name": "stdout",
     "output_type": "stream",
     "text": [
      "Length of training set: 135\n",
      "Length of testing set:  14\n"
     ]
    }
   ],
   "source": [
    "print('Length of training set: {:,}'.format(len(y_train)))\n",
    "print('Length of testing set:  {:,}'.format(len(y_test)))"
   ]
  },
  {
   "cell_type": "code",
   "execution_count": 5,
   "metadata": {
    "collapsed": false,
    "deletable": true,
    "editable": true
   },
   "outputs": [
    {
     "name": "stdout",
     "output_type": "stream",
     "text": [
      "X_train.shape = (135, 50, 50, 3) \t X_test.shape = (14, 50, 50, 3)\n",
      "y_train.shape = (135, 10) \t y_test.shape = (14, 10)\n"
     ]
    }
   ],
   "source": [
    "print('X_train.shape = {} \\t X_test.shape = {}'.format(X_train.shape, X_test.shape))\n",
    "print('y_train.shape = {} \\t y_test.shape = {}'.format(y_train.shape, y_test.shape))"
   ]
  },
  {
   "cell_type": "code",
   "execution_count": 6,
   "metadata": {
    "collapsed": false,
    "deletable": true,
    "editable": true
   },
   "outputs": [
    {
     "data": {
      "text/plain": [
       "(50, 50, 3)"
      ]
     },
     "execution_count": 6,
     "metadata": {},
     "output_type": "execute_result"
    }
   ],
   "source": [
    "X_train[0].shape"
   ]
  },
  {
   "cell_type": "code",
   "execution_count": 7,
   "metadata": {
    "collapsed": false,
    "deletable": true,
    "editable": true
   },
   "outputs": [
    {
     "data": {
      "text/plain": [
       "array([ 0.,  0.,  0.,  0.,  0.,  0.,  0.,  1.,  0.,  0.], dtype=float32)"
      ]
     },
     "execution_count": 7,
     "metadata": {},
     "output_type": "execute_result"
    }
   ],
   "source": [
    "y_train[0]"
   ]
  },
  {
   "cell_type": "markdown",
   "metadata": {
    "deletable": true,
    "editable": true
   },
   "source": [
    "### Define Hyperparameters"
   ]
  },
  {
   "cell_type": "code",
   "execution_count": 8,
   "metadata": {
    "collapsed": false,
    "deletable": true,
    "editable": true
   },
   "outputs": [],
   "source": [
    "# Image & labels\n",
    "image_size = features.image_size\n",
    "image_channel = 3\n",
    "image_shape = (image_size, image_size, image_channel)\n",
    "image_shape_flat = image_size * image_size * image_channel\n",
    "num_classes = len(features.classes)\n",
    "\n",
    "# Network\n",
    "filter_size = 5\n",
    "hidden1_channels = 8\n",
    "hidden2_channels = 16\n",
    "hidden3_channels = 32\n",
    "hidden4_channels = 64\n",
    "hidden5_channels = 128\n",
    "fully_connected_1 = 512\n",
    "fully_connected_2 = 256\n",
    "\n",
    "\n",
    "# Training\n",
    "learning_rate = 1e-3\n",
    "dropout = 0.8\n",
    "iterations = 0\n",
    "batch_size = 25"
   ]
  },
  {
   "cell_type": "markdown",
   "metadata": {
    "deletable": true,
    "editable": true
   },
   "source": [
    "### Helper functions for `weights`, `biases`, `conv2d`, & `max_pool`"
   ]
  },
  {
   "cell_type": "code",
   "execution_count": 9,
   "metadata": {
    "collapsed": true,
    "deletable": true,
    "editable": true
   },
   "outputs": [],
   "source": [
    "# Weight initialization\n",
    "def weight(shape):\n",
    "    initial = tf.truncated_normal(shape=shape, stddev=1.0/np.sqrt(shape[-2]))\n",
    "    return tf.Variable(initial)\n",
    "\n",
    "# Bias in initialization\n",
    "def bias(length):\n",
    "    initial = tf.zeros(shape=[length])\n",
    "    return tf.Variable(initial)\n",
    "\n",
    "# Convolutional operation\n",
    "def conv2d(X, W):\n",
    "    return tf.nn.conv2d(X, W, strides=[1,1,1,1], padding='SAME')\n",
    "\n",
    "# Max pooling operation\n",
    "def max_pool(X):\n",
    "    return tf.nn.max_pool(X, ksize=[1,2,2,1], strides=[1,2,2,1], padding='SAME')\n",
    "\n",
    "# Flatten layer\n",
    "def flatten(layer):\n",
    "    layer_shape = layer.get_shape()\n",
    "    num_features = np.array(layer_shape[1:4], dtype=int).prod()\n",
    "    layer_flat = tf.reshape(layer, [-1, num_features])\n",
    "    return layer_flat, num_features"
   ]
  },
  {
   "cell_type": "code",
   "execution_count": 10,
   "metadata": {
    "collapsed": false,
    "deletable": true,
    "editable": true
   },
   "outputs": [],
   "source": [
    "# Placeholder Variables\n",
    "X = tf.placeholder(tf.float32, [None, image_size, image_size, image_channel], name='X_input')\n",
    "y = tf.placeholder(tf.float32, [None, num_classes], name='Y_input')\n",
    "keep_prob = tf.placeholder(tf.float32)\n",
    "y_true = tf.argmax(y, axis=1)"
   ]
  },
  {
   "cell_type": "code",
   "execution_count": 11,
   "metadata": {
    "collapsed": false,
    "deletable": true,
    "editable": true
   },
   "outputs": [
    {
     "data": {
      "text/plain": [
       "<tf.Tensor 'Y_input:0' shape=(?, 10) dtype=float32>"
      ]
     },
     "execution_count": 11,
     "metadata": {},
     "output_type": "execute_result"
    }
   ],
   "source": [
    "y"
   ]
  },
  {
   "cell_type": "code",
   "execution_count": 12,
   "metadata": {
    "collapsed": false,
    "deletable": true,
    "editable": true
   },
   "outputs": [
    {
     "data": {
      "text/plain": [
       "<tf.Tensor 'ArgMax:0' shape=(?,) dtype=int64>"
      ]
     },
     "execution_count": 12,
     "metadata": {},
     "output_type": "execute_result"
    }
   ],
   "source": [
    "y_true"
   ]
  },
  {
   "cell_type": "markdown",
   "metadata": {
    "deletable": true,
    "editable": true
   },
   "source": [
    "## Building the Network\n",
    "### (1st Convolutional Layer + Max pooling) Input Layer `>` Hidden Layer 1"
   ]
  },
  {
   "cell_type": "code",
   "execution_count": 13,
   "metadata": {
    "collapsed": true,
    "deletable": true,
    "editable": true
   },
   "outputs": [],
   "source": [
    "# X_image = tf.reshape(X, shape=[-1, image_size, image_size, num_channel])"
   ]
  },
  {
   "cell_type": "code",
   "execution_count": 14,
   "metadata": {
    "collapsed": false,
    "deletable": true,
    "editable": true
   },
   "outputs": [],
   "source": [
    "# W_hidden1 = weight(shape=[filter_size, filter_size, image_channel, hidden1_channels])\n",
    "# b_hidden1 = bias(length=hidden1_channels)\n",
    "# h_conv1 = tf.nn.relu(conv2d(X, W_hidden1) + b_hidden1)\n",
    "# h_pool1 = max_pool(h_conv1)"
   ]
  },
  {
   "cell_type": "code",
   "execution_count": 15,
   "metadata": {
    "collapsed": false,
    "deletable": true,
    "editable": true
   },
   "outputs": [],
   "source": [
    "# h_pool1"
   ]
  },
  {
   "cell_type": "markdown",
   "metadata": {
    "deletable": true,
    "editable": true
   },
   "source": [
    "### (2nd Convolutional Layer + Max pooling) Hidden Layer 1 `>` Hidden Layer 2"
   ]
  },
  {
   "cell_type": "code",
   "execution_count": 16,
   "metadata": {
    "collapsed": true,
    "deletable": true,
    "editable": true
   },
   "outputs": [],
   "source": [
    "# W_hidden2 = weight(shape=[filter_size, filter_size, hidden1_channels, hidden2_channels])\n",
    "# b_hidden2 = bias(length=hidden2_channels)\n",
    "# h_conv2 = tf.nn.relu(conv2d(h_pool1, W_hidden2) + b_hidden2)\n",
    "# h_pool2 = max_pool(h_conv2)"
   ]
  },
  {
   "cell_type": "code",
   "execution_count": 17,
   "metadata": {
    "collapsed": false,
    "deletable": true,
    "editable": true
   },
   "outputs": [],
   "source": [
    "# h_pool2"
   ]
  },
  {
   "cell_type": "markdown",
   "metadata": {
    "deletable": true,
    "editable": true
   },
   "source": [
    "### (3rd Convolutional Layer + Max pooling) Hidden Layer 2 `>` Hidden Layer 3"
   ]
  },
  {
   "cell_type": "code",
   "execution_count": 18,
   "metadata": {
    "collapsed": false,
    "deletable": true,
    "editable": true
   },
   "outputs": [],
   "source": [
    "# W_hidden3 = weight(shape=[filter_size, filter_size, hidden2_channels, hidden3_channels])\n",
    "# b_hidden3 = bias(length=hidden3_channels)\n",
    "# h_conv3 = tf.nn.relu(conv2d(h_pool2, W_hidden3) + b_hidden3)\n",
    "# h_pool3 = max_pool(h_conv3)"
   ]
  },
  {
   "cell_type": "code",
   "execution_count": 19,
   "metadata": {
    "collapsed": false,
    "deletable": true,
    "editable": true
   },
   "outputs": [],
   "source": [
    "# h_pool3"
   ]
  },
  {
   "cell_type": "markdown",
   "metadata": {
    "deletable": true,
    "editable": true
   },
   "source": [
    "### (4th Convolutional Layer + Max pooling) Hidden Layer 3 `>` Hidden Layer 4"
   ]
  },
  {
   "cell_type": "code",
   "execution_count": 20,
   "metadata": {
    "collapsed": true,
    "deletable": true,
    "editable": true
   },
   "outputs": [],
   "source": [
    "# W_hidden4 = weight(shape=[filter_size, filter_size, hidden3_channels, hidden4_channels])\n",
    "# b_hidden4 = bias(length=hidden4_channels)\n",
    "# h_conv4 = tf.nn.relu(conv2d(h_conv3, W_hidden4) + b_hidden4)\n",
    "# h_pool4 = max_pool(h_conv4)"
   ]
  },
  {
   "cell_type": "code",
   "execution_count": 21,
   "metadata": {
    "collapsed": false,
    "deletable": true,
    "editable": true
   },
   "outputs": [],
   "source": [
    "# h_pool4"
   ]
  },
  {
   "cell_type": "markdown",
   "metadata": {
    "deletable": true,
    "editable": true
   },
   "source": [
    "### (5th Convolutional Layer) Hidden Layer 4 `>` Hidden Layer 5"
   ]
  },
  {
   "cell_type": "code",
   "execution_count": 22,
   "metadata": {
    "collapsed": true,
    "deletable": true,
    "editable": true
   },
   "outputs": [],
   "source": [
    "# W_hidden5 = weight(shape=[filter_size, filter_size, hidden4_channels, hidden5_channels])\n",
    "# b_hidden5 = bias(length=hidden5_channels)\n",
    "# h_conv5 = tf.nn.relu(conv2d(h_pool4, W_hidden5) + b_hidden5)"
   ]
  },
  {
   "cell_type": "code",
   "execution_count": 23,
   "metadata": {
    "collapsed": false,
    "deletable": true,
    "editable": true
   },
   "outputs": [],
   "source": [
    "# h_conv5"
   ]
  },
  {
   "cell_type": "markdown",
   "metadata": {
    "deletable": true,
    "editable": true
   },
   "source": [
    "### (1st Fully Connected Layer) Hidden Layer 5 `>` Hidden Layer 6"
   ]
  },
  {
   "cell_type": "code",
   "execution_count": 24,
   "metadata": {
    "collapsed": true,
    "deletable": true,
    "editable": true
   },
   "outputs": [],
   "source": [
    "# h_conv5_flat, num_features = flatten(h_conv5)\n",
    "# W_fc1 = weight(shape=[num_features, fully_connected_1])\n",
    "# b_fc1 = bias(length=fully_connected_1)\n",
    "# h_fc1 = tf.nn.relu(tf.matmul(h_conv5_flat, W_fc1) + b_fc1)"
   ]
  },
  {
   "cell_type": "code",
   "execution_count": 25,
   "metadata": {
    "collapsed": false,
    "deletable": true,
    "editable": true
   },
   "outputs": [],
   "source": [
    "# h_fc1"
   ]
  },
  {
   "cell_type": "markdown",
   "metadata": {
    "deletable": true,
    "editable": true
   },
   "source": [
    "### (2nd Fully Connected Layer + Dropout) Hidden Layer 6 `>` Hidden Layer 7"
   ]
  },
  {
   "cell_type": "code",
   "execution_count": 26,
   "metadata": {
    "collapsed": true,
    "deletable": true,
    "editable": true
   },
   "outputs": [],
   "source": [
    "# W_fc2 = weight(shape=[fully_connected_1, fully_connected_2])\n",
    "# b_fc2 = bias(length=fully_connected_2)\n",
    "# h_fc2 = tf.nn.relu(tf.matmul(h_fc1, W_fc2) + b_fc2)\n",
    "# h_drop = tf.nn.dropout(h_fc2, keep_prob=keep_prob)"
   ]
  },
  {
   "cell_type": "code",
   "execution_count": 27,
   "metadata": {
    "collapsed": false,
    "deletable": true,
    "editable": true
   },
   "outputs": [],
   "source": [
    "# h_drop"
   ]
  },
  {
   "cell_type": "markdown",
   "metadata": {
    "deletable": true,
    "editable": true
   },
   "source": [
    "### Readout/Output Layer"
   ]
  },
  {
   "cell_type": "code",
   "execution_count": 28,
   "metadata": {
    "collapsed": true,
    "deletable": true,
    "editable": true
   },
   "outputs": [],
   "source": [
    "# W_out = weight(shape=[fully_connected_2, num_classes])\n",
    "# b_out = bias(length=num_classes)\n",
    "# y_pred = tf.matmul(h_drop, W_out) + b_out\n",
    "# y_pred_true = tf.argmax(y_pred, axis=1)"
   ]
  },
  {
   "cell_type": "code",
   "execution_count": 29,
   "metadata": {
    "collapsed": false,
    "deletable": true,
    "editable": true
   },
   "outputs": [],
   "source": [
    "# y_pred"
   ]
  },
  {
   "cell_type": "code",
   "execution_count": 30,
   "metadata": {
    "collapsed": false,
    "deletable": true,
    "editable": true,
    "scrolled": true
   },
   "outputs": [],
   "source": [
    "# y_pred_true"
   ]
  },
  {
   "cell_type": "markdown",
   "metadata": {},
   "source": [
    "## Function for constructing the convnet"
   ]
  },
  {
   "cell_type": "code",
   "execution_count": 31,
   "metadata": {
    "collapsed": true
   },
   "outputs": [],
   "source": [
    "def convnet(train=False):\n",
    "    with tf.name_scope('conv_layer1'):\n",
    "        W_hidden1 = weight(shape=[filter_size, filter_size, image_channel, hidden1_channels])\n",
    "        b_hidden1 = bias(length=hidden1_channels)\n",
    "        h_conv1 = tf.nn.relu(conv2d(X, W_hidden1) + b_hidden1)\n",
    "        h_pool1 = max_pool(h_conv1)\n",
    "    with tf.name_scope('conv_layer2'):\n",
    "        W_hidden2 = weight(shape=[filter_size, filter_size, hidden1_channels, hidden2_channels])\n",
    "        b_hidden2 = bias(length=hidden2_channels)\n",
    "        h_conv2 = tf.nn.relu(conv2d(h_pool1, W_hidden2) + b_hidden2)\n",
    "        h_pool2 = max_pool(h_conv2)\n",
    "    with tf.name_scope('conv_layer3'):\n",
    "        W_hidden3 = weight(shape=[filter_size, filter_size, hidden2_channels, hidden3_channels])\n",
    "        b_hidden3 = bias(length=hidden3_channels)\n",
    "        h_conv3 = tf.nn.relu(conv2d(h_pool2, W_hidden3) + b_hidden3)\n",
    "        h_pool3 = max_pool(h_conv3)\n",
    "    with tf.name_scope('conv_layer4'):\n",
    "        W_hidden4 = weight(shape=[filter_size, filter_size, hidden3_channels, hidden4_channels])\n",
    "        b_hidden4 = bias(length=hidden4_channels)\n",
    "        h_conv4 = tf.nn.relu(conv2d(h_conv3, W_hidden4) + b_hidden4)\n",
    "        h_pool4 = max_pool(h_conv4)\n",
    "    with tf.name_scope('conv_layer5'):\n",
    "        W_hidden5 = weight(shape=[filter_size, filter_size, hidden4_channels, hidden5_channels])\n",
    "        b_hidden5 = bias(length=hidden5_channels)\n",
    "        h_conv5 = tf.nn.relu(conv2d(h_pool4, W_hidden5) + b_hidden5)\n",
    "        h_conv5_flat, num_features = flatten(h_conv5)\n",
    "    with tf.name_scope('fully_connected1'):\n",
    "        W_fc1 = weight(shape=[num_features, fully_connected_1])\n",
    "        b_fc1 = bias(length=fully_connected_1)\n",
    "        h_fc1 = tf.nn.relu(tf.matmul(h_conv5_flat, W_fc1) + b_fc1)\n",
    "        if train:\n",
    "            h_fc1 = tf.nn.dropout(h_fc1, keep_prob=keep_prob)\n",
    "    with tf.name_scope('fully_connected2'):\n",
    "        W_fc2 = weight(shape=[fully_connected_1, fully_connected_2])\n",
    "        b_fc2 = bias(length=fully_connected_2)\n",
    "        h_fc2 = tf.nn.relu(tf.matmul(h_fc1, W_fc2) + b_fc2)\n",
    "        if train:\n",
    "            h_drop = tf.nn.dropout(h_fc2, keep_prob=keep_prob)\n",
    "    with tf.name_scope('output_layer'):\n",
    "        W_out = weight(shape=[fully_connected_2, num_classes])\n",
    "        b_out = bias(length=num_classes)\n",
    "        y_pred = tf.matmul(h_drop, W_out) + b_out\n",
    "        y_pred_norm = tf.nn.softmax(y_pred)\n",
    "        y_pred_true = tf.argmax(y_pred_norm, axis=1)\n",
    "    return y_pred, y_pred_norm, y_pred_true\n",
    "\n",
    "# Run the convnet\n",
    "y_pred, y_pred_norm, y_pred_true = convnet(train=True)"
   ]
  },
  {
   "cell_type": "markdown",
   "metadata": {
    "deletable": true,
    "editable": true
   },
   "source": [
    "### Cost function, and optimizer"
   ]
  },
  {
   "cell_type": "code",
   "execution_count": 32,
   "metadata": {
    "collapsed": true,
    "deletable": true,
    "editable": true
   },
   "outputs": [],
   "source": [
    "cross_entropy = tf.nn.softmax_cross_entropy_with_logits(logits=y_pred, labels=y, name='xentropy')\n",
    "cost = tf.reduce_mean(cross_entropy, name='xentropy_mean')\n",
    "optimizer = tf.train.AdamOptimizer(learning_rate=learning_rate).minimize(cost)"
   ]
  },
  {
   "cell_type": "markdown",
   "metadata": {
    "deletable": true,
    "editable": true
   },
   "source": [
    "### Evaluating accuracy"
   ]
  },
  {
   "cell_type": "code",
   "execution_count": 33,
   "metadata": {
    "collapsed": true,
    "deletable": true,
    "editable": true
   },
   "outputs": [],
   "source": [
    "correct = tf.equal(y_true, y_pred_true)\n",
    "accuracy = tf.reduce_mean(tf.cast(correct, tf.float32))"
   ]
  },
  {
   "cell_type": "markdown",
   "metadata": {
    "deletable": true,
    "editable": true
   },
   "source": [
    "## Running tensorflow's `Session()`"
   ]
  },
  {
   "cell_type": "code",
   "execution_count": 34,
   "metadata": {
    "collapsed": true,
    "deletable": true,
    "editable": true
   },
   "outputs": [],
   "source": [
    "sess = tf.Session()\n",
    "init = tf.global_variables_initializer()\n",
    "sess.run(init)"
   ]
  },
  {
   "cell_type": "markdown",
   "metadata": {
    "deletable": true,
    "editable": true
   },
   "source": [
    "### `optimize()` and `print_accuracy()` function helper"
   ]
  },
  {
   "cell_type": "code",
   "execution_count": 35,
   "metadata": {
    "collapsed": true,
    "deletable": true,
    "editable": true
   },
   "outputs": [],
   "source": [
    "# feed_dict_train = {X: X_train, \n",
    "#                    y: y_train, \n",
    "#                    keep_prob:dropout}\n",
    "feed_dict_test = {X: X_test, \n",
    "                  y: y_test, \n",
    "                  keep_prob: dropout}\n",
    "\n",
    "\n",
    "# Optimize helper\n",
    "def optimize(num_iter=1):\n",
    "    global iterations\n",
    "    for i in tqdm(range(num_iter)):\n",
    "#         start = 0\n",
    "#         while start < len(X_train):\n",
    "#             end = start + batch_size\n",
    "#             batch_X = X_train[start:end]\n",
    "#             batch_y = y_train[start:end]\n",
    "        sess.run(optimizer, feed_dict={X:X_train,\n",
    "                                       y:y_train,\n",
    "                                       keep_prob:dropout})\n",
    "#             start += batch_size\n",
    "        iterations += 1\n",
    "\n",
    "\n",
    "# Accuracy helper\n",
    "def print_accuracy():\n",
    "    acc = sess.run(accuracy, feed_dict=feed_dict_test)\n",
    "    print('Accuracy after {:,} iterations = {:.2%}'.format(iterations, acc))\n",
    "\n",
    "\n",
    "# Predict\n",
    "def predict(img_path):\n",
    "    img = feature.preprocess(img_path)\n",
    "    _, y_pred_norm, y_pred_true = convnet()\n",
    "    _prob, _pred = sess.run([y_pred_norm, y_pred_true], feed_dict={X: img})"
   ]
  },
  {
   "cell_type": "markdown",
   "metadata": {
    "deletable": true,
    "editable": true
   },
   "source": [
    "## Training the network"
   ]
  },
  {
   "cell_type": "code",
   "execution_count": 36,
   "metadata": {
    "collapsed": false,
    "deletable": true,
    "editable": true
   },
   "outputs": [
    {
     "name": "stdout",
     "output_type": "stream",
     "text": [
      "Accuracy after 0 iterations = 0.00%\n"
     ]
    }
   ],
   "source": [
    "print_accuracy()"
   ]
  },
  {
   "cell_type": "code",
   "execution_count": 37,
   "metadata": {
    "collapsed": false,
    "deletable": true,
    "editable": true
   },
   "outputs": [
    {
     "name": "stderr",
     "output_type": "stream",
     "text": [
      "100%|██████████| 1/1 [00:01<00:00,  1.15s/it]"
     ]
    },
    {
     "name": "stdout",
     "output_type": "stream",
     "text": [
      "Accuracy after 1 iterations = 7.14%\n"
     ]
    },
    {
     "name": "stderr",
     "output_type": "stream",
     "text": [
      "\n"
     ]
    }
   ],
   "source": [
    "optimize() # for 1 iteration\n",
    "print_accuracy()"
   ]
  },
  {
   "cell_type": "code",
   "execution_count": null,
   "metadata": {
    "collapsed": false,
    "deletable": true,
    "editable": true
   },
   "outputs": [],
   "source": []
  },
  {
   "cell_type": "code",
   "execution_count": 38,
   "metadata": {
    "collapsed": false,
    "deletable": true,
    "editable": true
   },
   "outputs": [
    {
     "name": "stderr",
     "output_type": "stream",
     "text": [
      "100%|██████████| 9/9 [00:09<00:00,  1.05s/it]"
     ]
    },
    {
     "name": "stdout",
     "output_type": "stream",
     "text": [
      "Accuracy after 10 iterations = 28.57%\n"
     ]
    },
    {
     "name": "stderr",
     "output_type": "stream",
     "text": [
      "\n"
     ]
    }
   ],
   "source": [
    "optimize(9) # to complete 10 iterations\n",
    "print_accuracy()"
   ]
  },
  {
   "cell_type": "code",
   "execution_count": null,
   "metadata": {
    "collapsed": false,
    "deletable": true,
    "editable": true
   },
   "outputs": [],
   "source": []
  },
  {
   "cell_type": "code",
   "execution_count": null,
   "metadata": {
    "collapsed": false,
    "deletable": true,
    "editable": true
   },
   "outputs": [
    {
     "name": "stderr",
     "output_type": "stream",
     "text": [
      "100%|██████████| 90/90 [01:41<00:00,  1.20s/it]"
     ]
    },
    {
     "name": "stdout",
     "output_type": "stream",
     "text": [
      "Accuracy after 100 iterations = 35.71%\n"
     ]
    },
    {
     "name": "stderr",
     "output_type": "stream",
     "text": [
      "\n"
     ]
    }
   ],
   "source": [
    "optimize(90) # to complete 100 iterations\n",
    "print_accuracy()"
   ]
  },
  {
   "cell_type": "code",
   "execution_count": null,
   "metadata": {
    "collapsed": false,
    "deletable": true,
    "editable": true
   },
   "outputs": [
    {
     "name": "stderr",
     "output_type": "stream",
     "text": [
      " 24%|██▎       | 212/900 [03:47<13:23,  1.17s/it]"
     ]
    }
   ],
   "source": [
    "optimize(900) # to complete 1,000 iterations\n",
    "print_accuracy()"
   ]
  },
  {
   "cell_type": "code",
   "execution_count": null,
   "metadata": {
    "collapsed": true
   },
   "outputs": [],
   "source": [
    "# optimize(9000) # to complete 10,000 iterations\n",
    "# print_accuracy()"
   ]
  },
  {
   "cell_type": "markdown",
   "metadata": {
    "deletable": true,
    "editable": true
   },
   "source": [
    "### Closing the tesorflow's `Session()`"
   ]
  },
  {
   "cell_type": "code",
   "execution_count": null,
   "metadata": {
    "collapsed": true,
    "deletable": true,
    "editable": true
   },
   "outputs": [],
   "source": [
    "# sess.close()"
   ]
  }
 ],
 "metadata": {
  "kernelspec": {
   "display_name": "Python 3",
   "language": "python",
   "name": "python3"
  },
  "language_info": {
   "codemirror_mode": {
    "name": "ipython",
    "version": 3
   },
   "file_extension": ".py",
   "mimetype": "text/x-python",
   "name": "python",
   "nbconvert_exporter": "python",
   "pygments_lexer": "ipython3",
   "version": "3.6.2"
  }
 },
 "nbformat": 4,
 "nbformat_minor": 2
}
